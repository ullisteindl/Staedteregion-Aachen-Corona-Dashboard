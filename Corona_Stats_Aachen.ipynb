{
 "cells": [
  {
   "cell_type": "code",
   "execution_count": 3,
   "metadata": {},
   "outputs": [],
   "source": [
    "import requests\n",
    "import pandas as pd\n",
    "import datetime\n",
    "import seaborn as sns\n",
    "sns.set_theme()\n",
    "sns.set_palette(\"Paired\")\n",
    "import matplotlib.pyplot as plt\n",
    "from matplotlib import animation\n",
    "%matplotlib notebook\n",
    "from scipy.ndimage import gaussian_filter1d\n",
    "from IPython.display import display,Image,HTML\n",
    "from ipywidgets import interactive\n",
    "import ipywidgets as widgets\n",
    "import numpy as np"
   ]
  },
  {
   "cell_type": "markdown",
   "metadata": {},
   "source": [
    "Auf dieser Seite werden die Daten von https://offenedaten.aachen.de/ verwendet.\n",
    "Die Daten werden per Kommune angegeben, und auch für die gesamte Städteregion. Die Kommunen geben erst seit dem fünten August gesonderte Daten an, zuvor waren die Daten nur für die gesamte Städteregion verfügbar. Dementsprechend beginnen die Graphen über die einzelnen Kommunen zu diesem Zeitpunkt. "
   ]
  },
  {
   "cell_type": "code",
   "execution_count": 4,
   "metadata": {},
   "outputs": [
    {
     "name": "stderr",
     "output_type": "stream",
     "text": [
      "/home/ulli/snap/jupyter/common/lib/python3.7/site-packages/pandas/core/indexing.py:1637: SettingWithCopyWarning: \n",
      "A value is trying to be set on a copy of a slice from a DataFrame\n",
      "\n",
      "See the caveats in the documentation: https://pandas.pydata.org/pandas-docs/stable/user_guide/indexing.html#returning-a-view-versus-a-copy\n",
      "  self._setitem_single_block(indexer, value, name)\n"
     ]
    }
   ],
   "source": [
    "# Getting data, calculating, smoothing, etc\n",
    "\n",
    "url = 'https://services-eu1.arcgis.com/2ypUQspLVcN0KOBE/arcgis/rest/services/CoronavirusFallzahlen_%C3%B6ffentlich/FeatureServer/1/query?where=1%3D1&outFields=Kommune,Meldedatum,Positiv,Genesen,Tote,Aktiv,Inzidenz,Creator&outSR=4326&f=json'\n",
    "data = requests.get(url).json()\n",
    "data=data[\"features\"]\n",
    "\n",
    "data_table=pd.DataFrame.from_dict({i:z for i,x in enumerate(data) for y,z in x.items()},orient='index').drop([\"Creator\"],axis=1)\n",
    "data_table[\"Meldedatum\"] = data_table[\"Meldedatum\"].apply(lambda d: datetime.datetime.fromtimestamp(int(d)/1000).strftime('%Y-%m-%d %H:%M:%S'))\n",
    "data_table[\"Meldedatum\"] = pd.to_datetime(data_table[\"Meldedatum\"])\n",
    "data_table[\"Tote_diff\"] = data_table.groupby(['Kommune'])['Tote'].diff()\n",
    "data_table[\"Tote_diff\"].loc[data_table['Tote_diff'] < 1 ] = np.nan\n",
    "data_table[\"Neuinfektionen\"] = data_table.groupby(['Kommune'])[\"Positiv\"].diff()\n",
    "\n",
    "data_table[\"Neuinfektionen_7dm\"] = data_table[\"Neuinfektionen\"].rolling(7).mean()\n",
    "data_table[\"Inzidenz_smoothed\"] = gaussian_filter1d(data_table.Inzidenz,3)\n",
    "data_table[\"last_7\"] = data_table[\"Neuinfektionen\"].rolling(7).sum()\n",
    "data_table[\"last_4\"] = data_table[\"Neuinfektionen\"].rolling(4).sum()\n",
    "data_table[\"r4\"] = data_table[\"last_4\"]/data_table[\"last_4\"].shift(4)\n",
    "data_table[\"r7\"] = data_table[\"last_7\"]/data_table[\"last_7\"].shift(7)\n",
    "\n",
    "data_table.set_index(\"Meldedatum\",inplace=True)"
   ]
  },
  {
   "cell_type": "code",
   "execution_count": 5,
   "metadata": {},
   "outputs": [],
   "source": [
    "STATISTIK_SPEC={\n",
    "    \"Positiv\":\n",
    "    {\"desc\":\"Kumulierte Anzahl Erkrankter\",\n",
    "    \"plot_type\":\"lineplot\",\n",
    "    \"sharey\":{\"Genesen\",\"Tote\",\"Positiv\"},\n",
    "    \"unit\":\"Anzahl Fälle\"},\n",
    "    \"Genesen\":\n",
    "    {\"desc\":\"Kumulierte Anzahl Genesener\",\n",
    "    \"plot_type\":\"lineplot\",    \n",
    "     \"sharey\":{\"Genesen\",\"Tote\",\"Positiv\"},\n",
    "    \"unit\":\"Anzahl Fälle\"},\n",
    "    \"Tote\":\n",
    "    {\"desc\":\"Kumulierte Anzahl Verstorbener\",\n",
    "    \"plot_type\":\"lineplot\",    \n",
    "     \"sharey\":{\"Genesen\",\"Tote\",\"Positiv\"},\n",
    "    \"unit\":\"Anzahl Fälle\"}, \n",
    "    \"Aktiv\":\n",
    "    {\"desc\":\"Momentan Aktive Erkrankungen\",\n",
    "    \"plot_type\":\"lineplot\",    \n",
    "     \"sharey\":{\"Aktiv\"},\n",
    "    \"unit\":\"Anzahl Fälle\"}, \n",
    "    \"Inzidenz\":\n",
    "    {\"desc\":\"Siebentageinzidenz\",\n",
    "    \"plot_type\":\"lineplot\",    \n",
    "     \"sharey\":{\"Inzidenz\",\"Inzidenz_smoothed\"},\n",
    "    \"unit\":\"Fälle pro 100 000 Einwohner\"}, \n",
    "    \"Tote_diff\":\n",
    "    {\"desc\":\"Verstorbene pro Tag\",\n",
    "    \"plot_type\":\"scatterplot\",    \n",
    "     \"sharey\":{\"Tote_diff\"},\n",
    "    \"unit\":\"Anzahl Fälle pro Tag\"}, \n",
    "    \"Neuinfektionen\":\n",
    "    {\"desc\":\"Neuinfektionen pro Tag\",\n",
    "    \"plot_type\":\"lineplot\",    \n",
    "     \"sharey\":{\"Neuinfektionen\",\"Neuinfektionen_7dm\"},\n",
    "    \"unit\":\"Anzahl Fälle pro Tag\"}, \n",
    "    \"Neuinfektionen_7dm\":\n",
    "    {\"desc\":\"Neuinfektionen sieben Tage Mittel\",\n",
    "    \"plot_type\":\"lineplot\",    \n",
    "     \"sharey\":{\"Neuinfektionen\",\"Neuinfektionen_7dm\"},\n",
    "    \"unit\":\"Anzahl Fälle/7 Tage\"}, \n",
    "    \"Inzidenz_smoothed\":\n",
    "    {\"desc\":\"Siebentageinzidenz geglättet\",\n",
    "    \"plot_type\":\"lineplot\",    \n",
    "     \"sharey\":{\"Inzidenz\",\"Inzidenz_smoothed\"},\n",
    "    \"unit\":\"Fälle pro 100 000 Einwohner\"},\n",
    "    \"r4\":\n",
    "    {\"desc\":\"Vier-Tage Reproduktionszahl\",\n",
    "    \"plot_type\":\"lineplot\",    \n",
    "     \"sharey\":{\"r4\",\"r7\"},\n",
    "    \"unit\": \"Reproduktionszahl\"}, \n",
    "    \"r7\":\n",
    "    {\"desc\":\"Sieben-Tage Reproduktionszahl\",\n",
    "    \"plot_type\":\"lineplot\",    \n",
    "     \"sharey\":{\"r4\",\"r7\"},\n",
    "    \"unit\": \"Reproduktionszahl\"}\n",
    "}"
   ]
  },
  {
   "cell_type": "code",
   "execution_count": 6,
   "metadata": {},
   "outputs": [],
   "source": [
    "def zeigekommune(kommune,statistik):\n",
    "    fig, g = plt.subplots(sharex=True,sharey=True)\n",
    "    if STATISTIK_SPEC[statistik][\"plot_type\"]==\"lineplot\":\n",
    "        g = sns.lineplot(x=\"Meldedatum\",y=statistik,color=\"r\", legend=\"full\",\n",
    "                data=data_table.loc[data_table.Kommune == kommune], ax=g)\n",
    "    elif STATISTIK_SPEC[statistik][\"plot_type\"]==\"scatterplot\":\n",
    "        g = sns.scatterplot(x=\"Meldedatum\",y=statistik,color=\"r\", legend=\"full\",\n",
    "            data=data_table.loc[data_table.Kommune == kommune], ax=g)\n",
    "\n",
    "    g.yaxis.grid(True)\n",
    "    g.set(ylabel=STATISTIK_SPEC[statistik][\"desc\"], xlabel='Meldedatum')\n",
    "    plt.xticks(rotation=45)\n",
    "    g.legend([kommune])\n",
    "    plt.show()"
   ]
  },
  {
   "cell_type": "code",
   "execution_count": 7,
   "metadata": {},
   "outputs": [
    {
     "data": {
      "application/vnd.jupyter.widget-view+json": {
       "model_id": "0320cba1f7144a01be6712cc3880d822",
       "version_major": 2,
       "version_minor": 0
      },
      "text/plain": [
       "interactive(children=(Dropdown(description='Kommune:', index=8, options=('Aachen', 'Alsdorf', 'Baesweiler', 'E…"
      ]
     },
     "metadata": {},
     "output_type": "display_data"
    }
   ],
   "source": [
    "u = interactive(zeigekommune, kommune=widgets.Dropdown(\n",
    "    options=data_table[\"Kommune\"].unique().tolist(),\n",
    "    value=\"Städteregion\",\n",
    "    rows=11,\n",
    "    description='Kommune:',\n",
    "),statistik=widgets.Dropdown(\n",
    "    options=[(STATISTIK_SPEC[x][\"desc\"],x) for x in STATISTIK_SPEC],\n",
    "    value=\"Inzidenz_smoothed\",\n",
    "    description='Statistik:',\n",
    "    rows=len(STATISTIK_SPEC),\n",
    "));\n",
    "display(u)"
   ]
  },
  {
   "cell_type": "code",
   "execution_count": 8,
   "metadata": {},
   "outputs": [],
   "source": [
    "def vergleichekommunen(kommune1,kommune2,statistik):\n",
    "    fig, g = plt.subplots(sharex=True,sharey=True)\n",
    "    if STATISTIK_SPEC[statistik][\"plot_type\"]==\"lineplot\":\n",
    "        g = sns.lineplot(x=\"Meldedatum\",y=statistik,color=\"r\", legend=\"full\",\n",
    "                data=data_table.loc[data_table.Kommune == kommune1], ax=g)\n",
    "        sns.lineplot(x=\"Meldedatum\",y=statistik, color=\"b\", legend=\"full\",\n",
    "                data=data_table.loc[data_table.Kommune == kommune2], ax=g)\n",
    "    elif STATISTIK_SPEC[statistik][\"plot_type\"]==\"scatterplot\":\n",
    "        g = sns.scatterplot(x=\"Meldedatum\",y=statistik,color=\"r\", legend=\"full\",\n",
    "            data=data_table.loc[data_table.Kommune == kommune1], ax=g)\n",
    "        sns.scatterplot(x=\"Meldedatum\", y=statistik, color=\"b\", legend=\"full\",\n",
    "            data=data_table.loc[data_table.Kommune == kommune2], ax=g)\n",
    "\n",
    "    g.yaxis.grid(True)\n",
    "    g.set(ylabel=STATISTIK_SPEC[statistik][\"desc\"], xlabel='Meldedatum')\n",
    "    g.legend([kommune1,kommune2])\n",
    "    plt.xticks(rotation=45)\n",
    "    plt.show()"
   ]
  },
  {
   "cell_type": "code",
   "execution_count": 9,
   "metadata": {},
   "outputs": [
    {
     "data": {
      "application/vnd.jupyter.widget-view+json": {
       "model_id": "9daf575d693c4ba6a0775ee31f9a84da",
       "version_major": 2,
       "version_minor": 0
      },
      "text/plain": [
       "interactive(children=(Dropdown(description='Kommune 1:', options=('Aachen', 'Alsdorf', 'Baesweiler', 'Eschweil…"
      ]
     },
     "metadata": {},
     "output_type": "display_data"
    }
   ],
   "source": [
    "w = interactive(vergleichekommunen, kommune1=widgets.Dropdown(\n",
    "    options=data_table[\"Kommune\"].unique().tolist(),\n",
    "    value=\"Aachen\",\n",
    "    rows=11,\n",
    "    description='Kommune 1:',\n",
    "),kommune2=widgets.Dropdown(\n",
    "    options=data_table[\"Kommune\"].unique().tolist(),\n",
    "    value=\"Alsdorf\",\n",
    "    rows=11,\n",
    "    description='Kommune 2:',\n",
    "),statistik=widgets.Dropdown(\n",
    "    options=[(STATISTIK_SPEC[x][\"desc\"],x) for x in STATISTIK_SPEC],\n",
    "    value=\"Inzidenz_smoothed\",\n",
    "    description='Statistik 2:',\n",
    "    rows=len(STATISTIK_SPEC),\n",
    ")\n",
    ");\n",
    "display(w)"
   ]
  },
  {
   "cell_type": "code",
   "execution_count": 10,
   "metadata": {},
   "outputs": [],
   "source": [
    "def vergleichestatistik(kommune,statistik1,statistik2):\n",
    "    if statistik2 in STATISTIK_SPEC[statistik1][\"sharey\"]:\n",
    "        same_y=True\n",
    "    else:\n",
    "        same_y=False\n",
    "\n",
    "    if same_y:\n",
    "        fig, g = plt.subplots(sharex=True,sharey=same_y)    \n",
    "        if STATISTIK_SPEC[statistik1][\"plot_type\"]==\"lineplot\":\n",
    "            g = sns.lineplot(x=\"Meldedatum\",y=statistik1,color=\"r\", legend=\"full\",\n",
    "                data=data_table.loc[data_table.Kommune == kommune], ax=g)\n",
    "            sns.lineplot(x=\"Meldedatum\",y=statistik2,color=\"b\", legend=\"full\",\n",
    "            data=data_table.loc[data_table.Kommune == kommune], ax=g)\n",
    "        elif STATISTIK_SPEC[statistik1][\"plot_type\"]==\"scatterplot\":\n",
    "            g = sns.scatterplot(x=\"Meldedatum\",y=statistik1,color=\"r\", legend=\"full\",\n",
    "                data=data_table.loc[data_table.Kommune == kommune], ax=g)\n",
    "            sns.scatterplot(x=\"Meldedatum\",y=statistik2,color=\"b\", legend=\"full\",\n",
    "            data=data_table.loc[data_table.Kommune == kommune], ax=g)\n",
    "        g.legend([STATISTIK_SPEC[statistik1][\"desc\"], STATISTIK_SPEC[statistik2][\"desc\"]])\n",
    "\n",
    "\n",
    "\n",
    "    else:\n",
    "        fig, g = plt.subplots(sharex=True)    \n",
    "        if STATISTIK_SPEC[statistik1][\"plot_type\"]==\"lineplot\":\n",
    "            g = sns.lineplot(x=\"Meldedatum\",y=statistik1,color=\"r\", legend=\"full\",\n",
    "                data=data_table.loc[data_table.Kommune == kommune], ax=g)\n",
    "        elif STATISTIK_SPEC[statistik1][\"plot_type\"]==\"scatterplot\":\n",
    "            g = sns.scatterplot(x=\"Meldedatum\",y=statistik1,color=\"r\", legend=\"full\",\n",
    "                data=data_table.loc[data_table.Kommune == kommune], ax=g)\n",
    "        h = g.twinx()\n",
    "        if STATISTIK_SPEC[statistik2][\"plot_type\"]==\"lineplot\":\n",
    "            h = sns.lineplot(x=\"Meldedatum\",y=statistik2,color=\"b\", legend=\"full\",\n",
    "                data=data_table.loc[data_table.Kommune == kommune], ax=h)\n",
    "        elif STATISTIK_SPEC[statistik2][\"plot_type\"]==\"scatterplot\":\n",
    "            h = sns.scatterplot(x=\"Meldedatum\",y=statistik2,color=\"b\", legend=\"full\",\n",
    "                data=data_table.loc[data_table.Kommune == kommune], ax=h)\n",
    "        h.yaxis.grid(False)\n",
    "        g.legend([STATISTIK_SPEC[statistik1][\"desc\"]])\n",
    "        h.legend([STATISTIK_SPEC[statistik2][\"desc\"]])\n",
    "        h.set(ylabel=STATISTIK_SPEC[statistik2][\"unit\"])\n",
    "\n",
    "\n",
    "    g.set(ylabel=STATISTIK_SPEC[statistik1][\"unit\"], xlabel='Meldedatum')\n",
    "    g.yaxis.grid(True)\n",
    "\n",
    "    plt.show()"
   ]
  },
  {
   "cell_type": "code",
   "execution_count": 11,
   "metadata": {},
   "outputs": [],
   "source": [
    "v = interactive(vergleichestatistik, kommune=widgets.Dropdown(\n",
    "    options=data_table[\"Kommune\"].unique().tolist(),\n",
    "    value=\"Aachen\",\n",
    "    rows=11,\n",
    "    description='Kommune:',\n",
    "),statistik1=widgets.Dropdown(\n",
    "    options=[(STATISTIK_SPEC[x][\"desc\"],x) for x in STATISTIK_SPEC],\n",
    "    value=\"Inzidenz\",\n",
    "    rows=len(STATISTIK_SPEC),\n",
    "    description='Statistik 1:',\n",
    "),statistik2=widgets.Dropdown(\n",
    "    options=[(STATISTIK_SPEC[x][\"desc\"],x) for x in STATISTIK_SPEC],\n",
    "    value=\"Inzidenz_smoothed\",\n",
    "    description='Statistik 2:',\n",
    "    rows=len(STATISTIK_SPEC),\n",
    ")\n",
    ");"
   ]
  },
  {
   "cell_type": "code",
   "execution_count": 12,
   "metadata": {},
   "outputs": [
    {
     "data": {
      "application/vnd.jupyter.widget-view+json": {
       "model_id": "c0f0cfdc04f34fc6ac0c8800c7755b8e",
       "version_major": 2,
       "version_minor": 0
      },
      "text/plain": [
       "interactive(children=(Dropdown(description='Kommune:', options=('Aachen', 'Alsdorf', 'Baesweiler', 'Eschweiler…"
      ]
     },
     "metadata": {},
     "output_type": "display_data"
    }
   ],
   "source": [
    "display(v)"
   ]
  }
 ],
 "metadata": {
  "kernelspec": {
   "display_name": "Python 3",
   "language": "python",
   "name": "python3"
  },
  "language_info": {
   "codemirror_mode": {
    "name": "ipython",
    "version": 3
   },
   "file_extension": ".py",
   "mimetype": "text/x-python",
   "name": "python",
   "nbconvert_exporter": "python",
   "pygments_lexer": "ipython3",
   "version": "3.7.3"
  }
 },
 "nbformat": 4,
 "nbformat_minor": 2
}
